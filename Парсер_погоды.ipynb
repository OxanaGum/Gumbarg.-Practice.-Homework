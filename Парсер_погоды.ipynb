{
 "cells": [
  {
   "cell_type": "code",
   "execution_count": 145,
   "metadata": {},
   "outputs": [],
   "source": [
    "import requests\n",
    "from bs4 import BeautifulSoup"
   ]
  },
  {
   "cell_type": "code",
   "execution_count": 146,
   "metadata": {},
   "outputs": [
    {
     "name": "stdout",
     "output_type": "stream",
     "text": [
      "Your city: krasnoyarsk\n"
     ]
    }
   ],
   "source": [
    "# Просим пользователя ввести город\n",
    "city = input('Your city: ')\n",
    "city = city.lower()"
   ]
  },
  {
   "cell_type": "code",
   "execution_count": 117,
   "metadata": {
    "scrolled": true
   },
   "outputs": [],
   "source": [
    "# city"
   ]
  },
  {
   "cell_type": "code",
   "execution_count": 155,
   "metadata": {},
   "outputs": [],
   "source": [
    "# Составляем ссылку, включая в нее введенный город\n",
    "link = f'https://pogoda.vtomske.ru/{city}'"
   ]
  },
  {
   "cell_type": "code",
   "execution_count": 156,
   "metadata": {},
   "outputs": [],
   "source": [
    "headers = {\n",
    "        \"User-Agent\" : \"Mozilla/5.0 (Windows NT 10.0; Win64; x64) AppleWebKit/537.36 (KHTML, like Gecko) Chrome/129.0.0.0 Safari/537.36\"\n",
    "        }"
   ]
  },
  {
   "cell_type": "code",
   "execution_count": 157,
   "metadata": {},
   "outputs": [
    {
     "name": "stdout",
     "output_type": "stream",
     "text": [
      "<Response [200]>\n"
     ]
    }
   ],
   "source": [
    "# Проверяем, работает ли ссылка\n",
    "responce = requests.get(link, headers=headers)\n",
    "print(responce)"
   ]
  },
  {
   "cell_type": "code",
   "execution_count": 158,
   "metadata": {},
   "outputs": [],
   "source": [
    "# Скачиваем код страницы\n",
    "soup1 = BeautifulSoup(responce.text, 'html.parser')"
   ]
  },
  {
   "cell_type": "code",
   "execution_count": 159,
   "metadata": {},
   "outputs": [
    {
     "name": "stdout",
     "output_type": "stream",
     "text": [
      "+3°\n"
     ]
    },
    {
     "data": {
      "text/plain": [
       "3"
      ]
     },
     "execution_count": 159,
     "metadata": {},
     "output_type": "execute_result"
    }
   ],
   "source": [
    "# Вытаскиваем значение температуры, удаляем значок градусов и переводим переменную из строки в число\n",
    "temp = soup1.find(\"div\", class_ = \"deg\").text\n",
    "print(temp)\n",
    "\n",
    "# temp_int = int(temp[:-1])\n",
    "\n",
    "temp_int = int(temp.rstrip(\"°\"))\n",
    "temp_int"
   ]
  },
  {
   "cell_type": "code",
   "execution_count": 160,
   "metadata": {},
   "outputs": [
    {
     "name": "stdout",
     "output_type": "stream",
     "text": [
      "\n",
      "Ветер: ЮВ 1 м/c\n",
      "Давление: 741 мм рт. ст.\n",
      "Влажность: 82%\n",
      "Долгота дня: 09:46\n",
      "Восход 07:40, закат 17:26\n",
      "\n"
     ]
    }
   ],
   "source": [
    "# Вытаскиваем блок информации, который включает скорость ветра\n",
    "weather = soup1.find(\"div\", class_ = \"details\").text\n",
    "print(weather)"
   ]
  },
  {
   "cell_type": "code",
   "execution_count": 161,
   "metadata": {},
   "outputs": [
    {
     "name": "stdout",
     "output_type": "stream",
     "text": [
      "[1, 741, 82, 9, 46, 7, 40, 17, 26]\n",
      "1\n"
     ]
    }
   ],
   "source": [
    "# Вытаскиваем из блока информации все числа, меняем тип из строки в число и объединяем в список\n",
    "import re\n",
    "weathers = re.findall(r'\\d+', weather)\n",
    "weather_digit = list(map(int, weathers))\n",
    "print(weather_digit)\n",
    "\n",
    "# Так как порядок Ветер, давление и т.д. не меняется, то обращаемся к первому элементу списка, \n",
    "# чтобы вытащить значение скорости ветра\n",
    "wind = weather_digit[0]\n",
    "print(wind)"
   ]
  },
  {
   "cell_type": "code",
   "execution_count": 162,
   "metadata": {},
   "outputs": [
    {
     "name": "stdout",
     "output_type": "stream",
     "text": [
      "Иди без шапки\n"
     ]
    }
   ],
   "source": [
    "# Пишем условия для шапки\n",
    "if -5 <= temp_int <= 0 and wind >= 5:\n",
    "    print('Надень шапку')\n",
    "elif -5 <= temp_int <= 0 and wind <= 5:\n",
    "    print('Иди без шапки')\n",
    "elif temp_int < -5:\n",
    "    print('Надень шапку')\n",
    "elif temp_int > 0:\n",
    "    print('Иди без шапки')"
   ]
  },
  {
   "cell_type": "code",
   "execution_count": 133,
   "metadata": {},
   "outputs": [],
   "source": [
    "# Чтобы проверить корректность условия, можно вручную вбить значения температуры и скорости ветра\n",
    "temp_int = -3\n",
    "wind = 8"
   ]
  }
 ],
 "metadata": {
  "kernelspec": {
   "display_name": "Python 3",
   "language": "python",
   "name": "python3"
  },
  "language_info": {
   "codemirror_mode": {
    "name": "ipython",
    "version": 3
   },
   "file_extension": ".py",
   "mimetype": "text/x-python",
   "name": "python",
   "nbconvert_exporter": "python",
   "pygments_lexer": "ipython3",
   "version": "3.7.3"
  }
 },
 "nbformat": 4,
 "nbformat_minor": 2
}
