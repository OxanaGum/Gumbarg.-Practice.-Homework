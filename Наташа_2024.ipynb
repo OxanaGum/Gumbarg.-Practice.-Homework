{
 "cells": [
  {
   "cell_type": "code",
   "execution_count": 1,
   "metadata": {},
   "outputs": [
    {
     "name": "stdout",
     "output_type": "stream",
     "text": [
      "Collecting natasha\n",
      "  Downloading natasha-1.6.0-py3-none-any.whl (34.4 MB)\n",
      "     ---------------------------------------- 34.4/34.4 MB 5.5 MB/s eta 0:00:00\n",
      "Requirement already satisfied: pymorphy2 in c:\\users\\slava\\anaconda3\\lib\\site-packages (from natasha) (0.8)\n",
      "Collecting razdel>=0.5.0 (from natasha)\n",
      "  Downloading razdel-0.5.0-py3-none-any.whl (21 kB)\n",
      "Collecting navec>=0.9.0 (from natasha)\n",
      "  Downloading navec-0.10.0-py3-none-any.whl (23 kB)\n",
      "Collecting slovnet>=0.6.0 (from natasha)\n",
      "  Downloading slovnet-0.6.0-py3-none-any.whl (46 kB)\n",
      "     ---------------------------------------- 46.7/46.7 kB 2.3 MB/s eta 0:00:00\n",
      "Collecting yargy>=0.16.0 (from natasha)\n",
      "  Downloading yargy-0.16.0-py3-none-any.whl (33 kB)\n",
      "Collecting ipymarkup>=0.8.0 (from natasha)\n",
      "  Downloading ipymarkup-0.9.0-py3-none-any.whl (14 kB)\n",
      "Collecting intervaltree>=3 (from ipymarkup>=0.8.0->natasha)\n",
      "  Downloading intervaltree-3.1.0.tar.gz (32 kB)\n",
      "  Preparing metadata (setup.py): started\n",
      "  Preparing metadata (setup.py): finished with status 'done'\n",
      "Requirement already satisfied: numpy in c:\\users\\slava\\anaconda3\\lib\\site-packages (from navec>=0.9.0->natasha) (1.21.6)\n",
      "Requirement already satisfied: dawg-python>=0.7 in c:\\users\\slava\\anaconda3\\lib\\site-packages (from pymorphy2->natasha) (0.7.2)\n",
      "Requirement already satisfied: pymorphy2-dicts<3.0,>=2.4 in c:\\users\\slava\\anaconda3\\lib\\site-packages (from pymorphy2->natasha) (2.4.393442.3710985)\n",
      "Requirement already satisfied: docopt>=0.6 in c:\\users\\slava\\anaconda3\\lib\\site-packages (from pymorphy2->natasha) (0.6.2)\n",
      "Requirement already satisfied: sortedcontainers<3.0,>=2.0 in c:\\users\\slava\\anaconda3\\lib\\site-packages (from intervaltree>=3->ipymarkup>=0.8.0->natasha) (2.1.0)\n",
      "Building wheels for collected packages: intervaltree\n",
      "  Building wheel for intervaltree (setup.py): started\n",
      "  Building wheel for intervaltree (setup.py): finished with status 'done'\n",
      "  Created wheel for intervaltree: filename=intervaltree-3.1.0-py2.py3-none-any.whl size=26129 sha256=1935f3919fdc6a84eb875cc2ef77d2c86831b9adfaaf6005d201cc979369ced1\n",
      "  Stored in directory: c:\\users\\slava\\appdata\\local\\pip\\cache\\wheels\\16\\85\\bd\\1001cbb46dcfb71c2001cd7401c6fb250392f22a81ce3722f7\n",
      "Successfully built intervaltree\n",
      "Installing collected packages: razdel, navec, intervaltree, yargy, slovnet, ipymarkup, natasha\n",
      "Successfully installed intervaltree-3.1.0 ipymarkup-0.9.0 natasha-1.6.0 navec-0.10.0 razdel-0.5.0 slovnet-0.6.0 yargy-0.16.0\n"
     ]
    },
    {
     "name": "stderr",
     "output_type": "stream",
     "text": [
      "WARNING: Ignoring invalid distribution -ffi (c:\\users\\slava\\anaconda3\\lib\\site-packages)\n",
      "WARNING: Ignoring invalid distribution -umpy (c:\\users\\slava\\anaconda3\\lib\\site-packages)\n",
      "WARNING: Ignoring invalid distribution -ffi (c:\\users\\slava\\anaconda3\\lib\\site-packages)\n",
      "WARNING: Ignoring invalid distribution -umpy (c:\\users\\slava\\anaconda3\\lib\\site-packages)\n",
      "\n",
      "[notice] A new release of pip is available: 23.1.2 -> 24.0\n",
      "[notice] To update, run: python.exe -m pip install --upgrade pip\n"
     ]
    }
   ],
   "source": [
    "!pip install natasha"
   ]
  },
  {
   "cell_type": "code",
   "execution_count": 19,
   "metadata": {},
   "outputs": [
    {
     "name": "stdout",
     "output_type": "stream",
     "text": [
      "На этой странице вы можете скачать стили Mendeley и Zotero для оформления литературы по ГОСТ 7.0.100-2018 с Алфавитной сортировкой или В порядке появления ссылок. С цифровыми ссылками вида [1] или с текстовыми ссылками вида [Иванов и др., 2008; Бобров, 2018]. Стили доступны в виде файлов в формате\n"
     ]
    }
   ],
   "source": [
    "text = input()"
   ]
  },
  {
   "cell_type": "code",
   "execution_count": 3,
   "metadata": {},
   "outputs": [],
   "source": [
    "from natasha import(\n",
    "    Segmenter,\n",
    "    MorphVocab,\n",
    "    NewsEmbedding,\n",
    "    NewsMorphTagger,\n",
    "    NewsSyntaxParser,\n",
    "    NewsNERTagger,\n",
    "    PER,\n",
    "    NamesExtractor,\n",
    "    Doc\n",
    ")"
   ]
  },
  {
   "cell_type": "code",
   "execution_count": 4,
   "metadata": {},
   "outputs": [],
   "source": [
    "segmenter = Segmenter()\n",
    "morph_vocab=MorphVocab()\n",
    "emb=NewsEmbedding()\n",
    "morph_tagger = NewsMorphTagger(emb)\n",
    "syntax_parser = NewsSyntaxParser(emb)\n",
    "ner_tagger = NewsNERTagger(emb)\n",
    "\n",
    "names_extractor=NamesExtractor(morph_vocab)"
   ]
  },
  {
   "cell_type": "code",
   "execution_count": 5,
   "metadata": {},
   "outputs": [],
   "source": [
    "import pandas as pd"
   ]
  },
  {
   "cell_type": "code",
   "execution_count": 20,
   "metadata": {},
   "outputs": [],
   "source": [
    "doc = Doc(text)"
   ]
  },
  {
   "cell_type": "code",
   "execution_count": 21,
   "metadata": {},
   "outputs": [],
   "source": [
    "# методы segment, tag_morph, parse_syntax для сегментации на токены и предложения, анализа морфологии и синтаксиса\n",
    "doc.segment(segmenter)"
   ]
  },
  {
   "cell_type": "code",
   "execution_count": 22,
   "metadata": {
    "scrolled": true
   },
   "outputs": [
    {
     "data": {
      "text/plain": [
       "[DocToken(stop=2, text='На'),\n",
       " DocToken(start=3, stop=7, text='этой'),\n",
       " DocToken(start=8, stop=16, text='странице'),\n",
       " DocToken(start=17, stop=19, text='вы'),\n",
       " DocToken(start=20, stop=26, text='можете'),\n",
       " DocToken(start=27, stop=34, text='скачать'),\n",
       " DocToken(start=35, stop=40, text='стили'),\n",
       " DocToken(start=41, stop=49, text='Mendeley'),\n",
       " DocToken(start=50, stop=51, text='и'),\n",
       " DocToken(start=52, stop=58, text='Zotero'),\n",
       " DocToken(start=59, stop=62, text='для'),\n",
       " DocToken(start=63, stop=73, text='оформления'),\n",
       " DocToken(start=74, stop=84, text='литературы'),\n",
       " DocToken(start=85, stop=87, text='по'),\n",
       " DocToken(start=88, stop=92, text='ГОСТ'),\n",
       " DocToken(start=93, stop=105, text='7.0.100-2018'),\n",
       " DocToken(start=106, stop=107, text='с'),\n",
       " DocToken(start=108, stop=118, text='Алфавитной'),\n",
       " DocToken(start=119, stop=130, text='сортировкой'),\n",
       " DocToken(start=131, stop=134, text='или'),\n",
       " DocToken(start=135, stop=136, text='В'),\n",
       " DocToken(start=137, stop=144, text='порядке'),\n",
       " DocToken(start=145, stop=154, text='появления'),\n",
       " DocToken(start=155, stop=161, text='ссылок'),\n",
       " DocToken(start=161, stop=162, text='.'),\n",
       " DocToken(start=163, stop=164, text='С'),\n",
       " DocToken(start=165, stop=174, text='цифровыми'),\n",
       " DocToken(start=175, stop=183, text='ссылками'),\n",
       " DocToken(start=184, stop=188, text='вида'),\n",
       " DocToken(start=189, stop=190, text='['),\n",
       " DocToken(start=190, stop=191, text='1'),\n",
       " DocToken(start=191, stop=192, text=']'),\n",
       " DocToken(start=193, stop=196, text='или'),\n",
       " DocToken(start=197, stop=198, text='с'),\n",
       " DocToken(start=199, stop=209, text='текстовыми'),\n",
       " DocToken(start=210, stop=218, text='ссылками'),\n",
       " DocToken(start=219, stop=223, text='вида'),\n",
       " DocToken(start=224, stop=225, text='['),\n",
       " DocToken(start=225, stop=231, text='Иванов'),\n",
       " DocToken(start=232, stop=233, text='и'),\n",
       " DocToken(start=234, stop=236, text='др'),\n",
       " DocToken(start=236, stop=237, text='.'),\n",
       " DocToken(start=237, stop=238, text=','),\n",
       " DocToken(start=239, stop=243, text='2008'),\n",
       " DocToken(start=243, stop=244, text=';'),\n",
       " DocToken(start=245, stop=251, text='Бобров'),\n",
       " DocToken(start=251, stop=252, text=','),\n",
       " DocToken(start=253, stop=257, text='2018'),\n",
       " DocToken(start=257, stop=258, text=']'),\n",
       " DocToken(start=258, stop=259, text='.'),\n",
       " DocToken(start=260, stop=265, text='Стили'),\n",
       " DocToken(start=266, stop=274, text='доступны'),\n",
       " DocToken(start=275, stop=276, text='в'),\n",
       " DocToken(start=277, stop=281, text='виде'),\n",
       " DocToken(start=282, stop=288, text='файлов'),\n",
       " DocToken(start=289, stop=290, text='в'),\n",
       " DocToken(start=291, stop=298, text='формате')]"
      ]
     },
     "execution_count": 22,
     "metadata": {},
     "output_type": "execute_result"
    }
   ],
   "source": [
    "doc.tokens[:]"
   ]
  },
  {
   "cell_type": "code",
   "execution_count": 23,
   "metadata": {},
   "outputs": [],
   "source": [
    "doc.tag_morph(morph_tagger)\n",
    "doc.parse_syntax(syntax_parser)"
   ]
  },
  {
   "cell_type": "code",
   "execution_count": 24,
   "metadata": {},
   "outputs": [
    {
     "name": "stdout",
     "output_type": "stream",
     "text": [
      "                  На ADP\n",
      "                этой DET|Case=Loc|Gender=Fem|Number=Sing\n",
      "            странице NOUN|Animacy=Inan|Case=Loc|Gender=Fem|Number=Sing\n",
      "                  вы PRON|Case=Nom|Number=Plur|Person=2\n",
      "              можете VERB|Aspect=Imp|Mood=Ind|Number=Plur|Person=2|Tense=Pres|VerbForm=Fin|Voice=Act\n",
      "             скачать VERB|Aspect=Perf|VerbForm=Inf|Voice=Act\n",
      "               стили NOUN|Animacy=Inan|Case=Acc|Gender=Masc|Number=Plur\n",
      "            Mendeley PROPN|Foreign=Yes\n",
      "                   и CCONJ\n",
      "              Zotero PROPN|Foreign=Yes\n",
      "                 для ADP\n",
      "          оформления NOUN|Animacy=Inan|Case=Gen|Gender=Neut|Number=Sing\n",
      "          литературы NOUN|Animacy=Inan|Case=Gen|Gender=Fem|Number=Sing\n",
      "                  по ADP\n",
      "                ГОСТ PROPN|Animacy=Inan|Case=Dat|Gender=Masc|Number=Sing\n",
      "        7.0.100-2018 NUM\n",
      "                   с ADP\n",
      "          Алфавитной ADJ|Case=Ins|Degree=Pos|Gender=Fem|Number=Sing\n",
      "         сортировкой NOUN|Animacy=Inan|Case=Ins|Gender=Fem|Number=Sing\n",
      "                 или CCONJ\n",
      "                   В ADP\n",
      "             порядке NOUN|Animacy=Inan|Case=Loc|Gender=Masc|Number=Sing\n",
      "           появления NOUN|Animacy=Inan|Case=Gen|Gender=Neut|Number=Sing\n",
      "              ссылок NOUN|Animacy=Inan|Case=Gen|Gender=Fem|Number=Plur\n",
      "                   . PUNCT\n"
     ]
    }
   ],
   "source": [
    "sent = doc.sents[0]\n",
    "sent.morph.print()"
   ]
  },
  {
   "cell_type": "code",
   "execution_count": 25,
   "metadata": {},
   "outputs": [
    {
     "name": "stdout",
     "output_type": "stream",
     "text": [
      "          ┌──► На           case\n",
      "          │ ┌► этой         det\n",
      "        ┌►└─└─ странице     obl\n",
      "        │   ┌► вы           nsubj\n",
      "┌───────└─┌─└─ можете       \n",
      "│     ┌───└►┌─ скачать      xcomp\n",
      "│ ┌───│   ┌─└► стили        obj\n",
      "│ │   │ ┌─└──► Mendeley     appos\n",
      "│ │   │ │   ┌► и            cc\n",
      "│ │   │ └──►└─ Zotero       conj\n",
      "│ │   │     ┌► для          case\n",
      "│ │ ┌─└──►┌─└─ оформления   obl\n",
      "│ │ │   ┌─└──► литературы   nmod\n",
      "│ │ │   │   ┌► по           case\n",
      "│ │ │   └►┌─└─ ГОСТ         nmod\n",
      "│ │ │     └──► 7.0.100-2018 appos\n",
      "│ │ │     ┌──► с            case\n",
      "│ │ │     │ ┌► Алфавитной   amod\n",
      "│ │ └────►└─└─ сортировкой  nmod\n",
      "│ │       ┌──► или          cc\n",
      "│ │       │ ┌► В            case\n",
      "│ └──────►└─└─ порядке      nmod\n",
      "│         └►┌─ появления    nmod\n",
      "│           └► ссылок       nmod\n",
      "└────────────► .            punct\n"
     ]
    }
   ],
   "source": [
    "sent.syntax.print()"
   ]
  },
  {
   "cell_type": "code",
   "execution_count": 26,
   "metadata": {},
   "outputs": [
    {
     "name": "stdout",
     "output_type": "stream",
     "text": [
      "На этой странице вы можете скачать стили Mendeley и Zotero для \n",
      "                                                    ORG───     \n",
      "оформления литературы по ГОСТ 7.0.100-2018 с Алфавитной сортировкой \n",
      "или В порядке появления ссылок. С цифровыми ссылками вида [1] или с \n",
      "текстовыми ссылками вида [Иванов и др., 2008; Бобров, 2018]. Стили \n",
      "                          PER───              PER───               \n",
      "доступны в виде файлов в формате\n"
     ]
    }
   ],
   "source": [
    " from natasha import NewsNERTagger\n",
    "\n",
    "doc.tag_ner(ner_tagger)\n",
    "doc.ner.print()"
   ]
  }
 ],
 "metadata": {
  "kernelspec": {
   "display_name": "Python 3 (ipykernel)",
   "language": "python",
   "name": "python3"
  },
  "language_info": {
   "codemirror_mode": {
    "name": "ipython",
    "version": 3
   },
   "file_extension": ".py",
   "mimetype": "text/x-python",
   "name": "python",
   "nbconvert_exporter": "python",
   "pygments_lexer": "ipython3",
   "version": "3.12.7"
  }
 },
 "nbformat": 4,
 "nbformat_minor": 4
}
